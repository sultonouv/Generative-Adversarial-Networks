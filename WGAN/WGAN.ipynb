{
 "cells": [
  {
   "cell_type": "code",
   "execution_count": 1,
   "id": "4d2d5ac2-b0f4-4362-8d62-d9f929fcc987",
   "metadata": {},
   "outputs": [],
   "source": [
    "import torch \n",
    "import torch.nn as nn\n",
    "import torch.optim as optim\n",
    "import torchvision\n",
    "from torchvision import datasets, transforms\n",
    "from torchvision.utils import make_grid\n",
    "from torch.utils.data import DataLoader\n",
    "from tqdm import tqdm\n",
    "import matplotlib.pyplot as plt\n",
    "import numpy as np\n",
    "import tensorboard"
   ]
  },
  {
   "cell_type": "code",
   "execution_count": 2,
   "id": "b0cfed43-d56f-411a-8432-17c6c19da1ee",
   "metadata": {},
   "outputs": [],
   "source": [
    "batch_size = 64\n",
    "img_size = 64\n",
    "num_channels = 3\n",
    "z_dim = 100\n",
    "features_gen = 64\n",
    "features_disc = 64\n",
    "lr = 5.0e-5\n",
    "clipping_rate = 0.01\n",
    "alpha = 0.2\n",
    "num_epochs = 100\n",
    "critic_iters = 5\n",
    "device = torch.device('cuda:1' if torch.cuda.is_available() else 'cpu')"
   ]
  },
  {
   "cell_type": "code",
   "execution_count": 3,
   "id": "30a63447-1775-4d4c-b4b2-9dd9028ffd4e",
   "metadata": {},
   "outputs": [
    {
     "name": "stdout",
     "output_type": "stream",
     "text": [
      "cuda:1\n"
     ]
    }
   ],
   "source": [
    "print(device)"
   ]
  },
  {
   "cell_type": "code",
   "execution_count": 4,
   "id": "9727d422-5937-4683-86b2-fb73783f31c7",
   "metadata": {},
   "outputs": [],
   "source": [
    "transform = transforms.Compose([\n",
    "    transforms.Resize([img_size, img_size]),\n",
    "    transforms.ToTensor(),\n",
    "    transforms.Normalize(\n",
    "    [0.5 for _ in range(num_channels)], [0.5 for _ in range(num_channels)])\n",
    "])"
   ]
  },
  {
   "cell_type": "code",
   "execution_count": 5,
   "id": "e582bbe8-06b4-4ba4-9612-d0271879e17a",
   "metadata": {},
   "outputs": [],
   "source": [
    "data_dir = '../../DATASETS/celeba/images' # CELEBA IMAGES\n",
    "dataset = datasets.ImageFolder(root=data_dir, transform=transform)\n",
    "dataloader = DataLoader(dataset, batch_size, shuffle=True, drop_last=True)"
   ]
  },
  {
   "cell_type": "code",
   "execution_count": 6,
   "id": "3ecfeae1-dc12-4faa-a0b8-59bde263d8b3",
   "metadata": {},
   "outputs": [
    {
     "data": {
      "text/plain": [
       "torch.Size([64, 3, 64, 64])"
      ]
     },
     "execution_count": 6,
     "metadata": {},
     "output_type": "execute_result"
    }
   ],
   "source": [
    "images, labels = next(iter(dataloader))\n",
    "np.shape(images)"
   ]
  },
  {
   "cell_type": "code",
   "execution_count": 7,
   "id": "75cf7460-ad7a-4f53-9676-0ff1fd37b54f",
   "metadata": {},
   "outputs": [],
   "source": [
    "def initialize_weights(model):\n",
    "    # Initializes weights according to the DCGAN paper\n",
    "    for m in model.modules():\n",
    "        if isinstance(m, (nn.Conv2d, nn.ConvTranspose2d, nn.BatchNorm2d)):\n",
    "            nn.init.normal_(m.weight.data, 0.0, 0.02)"
   ]
  },
  {
   "cell_type": "code",
   "execution_count": 8,
   "id": "4082e517-33eb-48b1-abf1-ddf5b0eb89a5",
   "metadata": {},
   "outputs": [],
   "source": [
    "class Generator(nn.Module):\n",
    "    def __init__(self, z_dim, features_gen, num_channels):\n",
    "        super().__init__()\n",
    "        self.z_dim = z_dim\n",
    "        self.features_gen = features_gen\n",
    "        self.num_channels = num_channels\n",
    "        \n",
    "        self.net = nn.Sequential(\n",
    "            self._block(in_channels=z_dim, out_channels=features_gen*16, kernel_size=4, stride=1, padding=0),\n",
    "            self._block(features_gen*16, features_gen*8, 4, 2, 1),\n",
    "            self._block(features_gen*8, features_gen*4, 4, 2, 1),\n",
    "            self._block(features_gen*4, features_gen*2, 4, 2, 1),\n",
    "            nn.ConvTranspose2d(features_gen*2, num_channels, 4, 2, 1),\n",
    "            nn.Tanh())\n",
    "        \n",
    "    def _block(self, in_channels, out_channels, kernel_size, stride, padding):\n",
    "        return nn.Sequential(\n",
    "            nn.ConvTranspose2d(\n",
    "                in_channels,\n",
    "                out_channels,\n",
    "                kernel_size,\n",
    "                stride,\n",
    "                padding,\n",
    "                bias=False,\n",
    "            ),\n",
    "            nn.BatchNorm2d(out_channels),\n",
    "            nn.ReLU(),\n",
    "        )\n",
    "    def forward(self, x):\n",
    "        return self.net(x)\n",
    "    "
   ]
  },
  {
   "cell_type": "code",
   "execution_count": 9,
   "id": "8c2b9e27-a0f2-49d3-a29f-b47e981a3ca8",
   "metadata": {},
   "outputs": [],
   "source": [
    "class Discriminator(nn.Module):\n",
    "    def __init__(self, z_dim, features_disc, num_channels, alpha):\n",
    "        super().__init__()\n",
    "        self.z_dim = z_dim\n",
    "        self.features_disc = features_disc\n",
    "        self.num_channels = num_channels\n",
    "        self.alpha = alpha\n",
    "        \n",
    "        \n",
    "        self.net = nn.Sequential(\n",
    "                self._block(num_channels, features_disc*2, 4, 2, 1),\n",
    "                self._block(features_disc*2, features_disc*4, 4, 2, 1),\n",
    "                self._block(features_disc*4, features_disc*8, 4, 2, 1),\n",
    "                self._block(features_disc*8, features_disc*16, 4, 2, 1),\n",
    "                nn.Conv2d(features_disc*16, 1, 4, 2, 0),\n",
    "#                 nn.Sigmoid()       \n",
    "        )\n",
    "        \n",
    "    def _block(self, in_channels, out_channels, kernel_size, stride, padding):\n",
    "        return nn.Sequential(\n",
    "            nn.Conv2d(\n",
    "                in_channels,\n",
    "                out_channels,\n",
    "                kernel_size,\n",
    "                stride,\n",
    "                padding,\n",
    "                bias=False\n",
    "            ),\n",
    "            nn.BatchNorm2d(out_channels),\n",
    "            nn.LeakyReLU(alpha)\n",
    "        )\n",
    "    \n",
    "    def forward(self, x):\n",
    "        return self.net(x).reshape(-1, 1)"
   ]
  },
  {
   "cell_type": "code",
   "execution_count": 10,
   "id": "f8525f81-4fa5-40c7-a83f-8dd8fa428111",
   "metadata": {},
   "outputs": [],
   "source": [
    "gen = Generator(z_dim, features_gen,  num_channels).to(device)\n",
    "critic = Discriminator(z_dim, features_disc, num_channels, alpha).to(device)\n",
    "initialize_weights(gen)\n",
    "initialize_weights(critic)"
   ]
  },
  {
   "cell_type": "code",
   "execution_count": 11,
   "id": "4a428f3e-2aa5-45a6-8f99-f9054935db54",
   "metadata": {},
   "outputs": [],
   "source": [
    "gen_optim = optim.RMSprop(params=gen.parameters(), lr = lr)\n",
    "critic_optim = optim.RMSprop(params=critic.parameters(), lr = lr)\n",
    "# criterion = criterion = nn.BCELoss().to(device)\n",
    "fixed_noise = torch.randn(batch_size, z_dim, 1, 1).to(device)\n",
    "# "
   ]
  },
  {
   "cell_type": "code",
   "execution_count": 12,
   "id": "6a251b81-4e67-40fd-b372-bbcd3324b020",
   "metadata": {},
   "outputs": [],
   "source": [
    "# To save images in grid layout\n",
    "def save_image_grid(epoch: int, batch_idx: int, images: torch.Tensor, ncol: int):\n",
    "    \n",
    "    image_grid = make_grid(images, ncol, normalize=True)     # Images in a grid\n",
    "    image_grid = image_grid.permute(1, 2, 0) # Move channel last\n",
    "    image_grid = image_grid.cpu().numpy()    # To Numpy\n",
    "\n",
    "    plt.imshow(image_grid)\n",
    "    plt.xticks([])\n",
    "    plt.yticks([])\n",
    "    plt.savefig(f'GEN_IMAGES/generated_{epoch+1:03d}_{batch_idx}.jpg') # FLOWERS GENERATED IMAGES\n",
    "    plt.close()"
   ]
  },
  {
   "cell_type": "code",
   "execution_count": null,
   "id": "cae681d8-eb51-4622-89fc-98a594e5260f",
   "metadata": {},
   "outputs": [
    {
     "name": "stderr",
     "output_type": "stream",
     "text": [
      "  0%|          | 1/3165 [00:01<56:20,  1.07s/it]"
     ]
    },
    {
     "name": "stdout",
     "output_type": "stream",
     "text": [
      "EPOCH: 1 | G_LOSS: 0.077 | D_LOSS: -0.299\n"
     ]
    },
    {
     "name": "stderr",
     "output_type": "stream",
     "text": [
      " 16%|█▌        | 501/3165 [01:54<10:51,  4.09it/s]"
     ]
    },
    {
     "name": "stdout",
     "output_type": "stream",
     "text": [
      "EPOCH: 1 | G_LOSS: 0.894 | D_LOSS: -2.965\n"
     ]
    },
    {
     "name": "stderr",
     "output_type": "stream",
     "text": [
      " 32%|███▏      | 1001/3165 [03:47<08:48,  4.09it/s]"
     ]
    },
    {
     "name": "stdout",
     "output_type": "stream",
     "text": [
      "EPOCH: 1 | G_LOSS: 1.127 | D_LOSS: -2.991\n"
     ]
    },
    {
     "name": "stderr",
     "output_type": "stream",
     "text": [
      " 47%|████▋     | 1501/3165 [05:40<06:44,  4.11it/s]"
     ]
    },
    {
     "name": "stdout",
     "output_type": "stream",
     "text": [
      "EPOCH: 1 | G_LOSS: 1.204 | D_LOSS: -3.001\n"
     ]
    },
    {
     "name": "stderr",
     "output_type": "stream",
     "text": [
      " 63%|██████▎   | 2001/3165 [07:33<04:44,  4.10it/s]"
     ]
    },
    {
     "name": "stdout",
     "output_type": "stream",
     "text": [
      "EPOCH: 1 | G_LOSS: 1.243 | D_LOSS: -3.006\n"
     ]
    },
    {
     "name": "stderr",
     "output_type": "stream",
     "text": [
      " 79%|███████▉  | 2501/3165 [09:27<02:42,  4.09it/s]"
     ]
    },
    {
     "name": "stdout",
     "output_type": "stream",
     "text": [
      "EPOCH: 1 | G_LOSS: 1.264 | D_LOSS: -3.004\n"
     ]
    },
    {
     "name": "stderr",
     "output_type": "stream",
     "text": [
      " 95%|█████████▍| 3001/3165 [11:20<00:40,  4.08it/s]"
     ]
    },
    {
     "name": "stdout",
     "output_type": "stream",
     "text": [
      "EPOCH: 1 | G_LOSS: 1.279 | D_LOSS: -3.002\n"
     ]
    },
    {
     "name": "stderr",
     "output_type": "stream",
     "text": [
      "100%|██████████| 3165/3165 [11:57<00:00,  4.41it/s]\n",
      "  0%|          | 1/3165 [00:00<16:05,  3.28it/s]"
     ]
    },
    {
     "name": "stdout",
     "output_type": "stream",
     "text": [
      "EPOCH: 2 | G_LOSS: 1.360 | D_LOSS: -3.020\n"
     ]
    },
    {
     "name": "stderr",
     "output_type": "stream",
     "text": [
      " 16%|█▌        | 501/3165 [01:53<10:52,  4.08it/s]"
     ]
    },
    {
     "name": "stdout",
     "output_type": "stream",
     "text": [
      "EPOCH: 2 | G_LOSS: 1.345 | D_LOSS: -2.999\n"
     ]
    },
    {
     "name": "stderr",
     "output_type": "stream",
     "text": [
      " 32%|███▏      | 1001/3165 [03:46<08:48,  4.09it/s]"
     ]
    },
    {
     "name": "stdout",
     "output_type": "stream",
     "text": [
      "EPOCH: 2 | G_LOSS: 1.338 | D_LOSS: -2.984\n"
     ]
    },
    {
     "name": "stderr",
     "output_type": "stream",
     "text": [
      " 47%|████▋     | 1501/3165 [05:40<06:46,  4.09it/s]"
     ]
    },
    {
     "name": "stdout",
     "output_type": "stream",
     "text": [
      "EPOCH: 2 | G_LOSS: 1.337 | D_LOSS: -2.971\n"
     ]
    },
    {
     "name": "stderr",
     "output_type": "stream",
     "text": [
      " 63%|██████▎   | 2001/3165 [07:33<04:44,  4.09it/s]"
     ]
    },
    {
     "name": "stdout",
     "output_type": "stream",
     "text": [
      "EPOCH: 2 | G_LOSS: 1.324 | D_LOSS: -2.945\n"
     ]
    },
    {
     "name": "stderr",
     "output_type": "stream",
     "text": [
      " 79%|███████▉  | 2501/3165 [09:26<02:42,  4.08it/s]"
     ]
    },
    {
     "name": "stdout",
     "output_type": "stream",
     "text": [
      "EPOCH: 2 | G_LOSS: 1.314 | D_LOSS: -2.921\n"
     ]
    },
    {
     "name": "stderr",
     "output_type": "stream",
     "text": [
      " 95%|█████████▍| 3001/3165 [11:19<00:40,  4.09it/s]"
     ]
    },
    {
     "name": "stdout",
     "output_type": "stream",
     "text": [
      "EPOCH: 2 | G_LOSS: 1.309 | D_LOSS: -2.910\n"
     ]
    },
    {
     "name": "stderr",
     "output_type": "stream",
     "text": [
      "100%|██████████| 3165/3165 [11:57<00:00,  4.41it/s]\n",
      "  0%|          | 1/3165 [00:00<15:46,  3.34it/s]"
     ]
    },
    {
     "name": "stdout",
     "output_type": "stream",
     "text": [
      "EPOCH: 3 | G_LOSS: 1.295 | D_LOSS: -2.864\n"
     ]
    },
    {
     "name": "stderr",
     "output_type": "stream",
     "text": [
      " 16%|█▌        | 501/3165 [01:53<10:54,  4.07it/s]"
     ]
    },
    {
     "name": "stdout",
     "output_type": "stream",
     "text": [
      "EPOCH: 3 | G_LOSS: 1.264 | D_LOSS: -2.846\n"
     ]
    },
    {
     "name": "stderr",
     "output_type": "stream",
     "text": [
      " 32%|███▏      | 1001/3165 [03:47<08:48,  4.09it/s]"
     ]
    },
    {
     "name": "stdout",
     "output_type": "stream",
     "text": [
      "EPOCH: 3 | G_LOSS: 1.269 | D_LOSS: -2.841\n"
     ]
    },
    {
     "name": "stderr",
     "output_type": "stream",
     "text": [
      " 47%|████▋     | 1501/3165 [05:40<06:46,  4.09it/s]"
     ]
    },
    {
     "name": "stdout",
     "output_type": "stream",
     "text": [
      "EPOCH: 3 | G_LOSS: 1.154 | D_LOSS: -2.845\n"
     ]
    },
    {
     "name": "stderr",
     "output_type": "stream",
     "text": [
      " 63%|██████▎   | 2001/3165 [07:33<04:44,  4.09it/s]"
     ]
    },
    {
     "name": "stdout",
     "output_type": "stream",
     "text": [
      "EPOCH: 3 | G_LOSS: 1.051 | D_LOSS: -2.833\n"
     ]
    },
    {
     "name": "stderr",
     "output_type": "stream",
     "text": [
      " 79%|███████▉  | 2501/3165 [09:26<02:42,  4.09it/s]"
     ]
    },
    {
     "name": "stdout",
     "output_type": "stream",
     "text": [
      "EPOCH: 3 | G_LOSS: 0.951 | D_LOSS: -2.826\n"
     ]
    },
    {
     "name": "stderr",
     "output_type": "stream",
     "text": [
      " 95%|█████████▍| 3001/3165 [11:19<00:40,  4.06it/s]"
     ]
    },
    {
     "name": "stdout",
     "output_type": "stream",
     "text": [
      "EPOCH: 3 | G_LOSS: 0.894 | D_LOSS: -2.824\n"
     ]
    },
    {
     "name": "stderr",
     "output_type": "stream",
     "text": [
      "100%|██████████| 3165/3165 [11:56<00:00,  4.42it/s]\n",
      "  0%|          | 1/3165 [00:00<15:45,  3.35it/s]"
     ]
    },
    {
     "name": "stdout",
     "output_type": "stream",
     "text": [
      "EPOCH: 4 | G_LOSS: 1.403 | D_LOSS: -2.905\n"
     ]
    },
    {
     "name": "stderr",
     "output_type": "stream",
     "text": [
      " 16%|█▌        | 501/3165 [01:53<10:53,  4.08it/s]"
     ]
    },
    {
     "name": "stdout",
     "output_type": "stream",
     "text": [
      "EPOCH: 4 | G_LOSS: 0.599 | D_LOSS: -2.852\n"
     ]
    },
    {
     "name": "stderr",
     "output_type": "stream",
     "text": [
      " 32%|███▏      | 1001/3165 [03:46<08:49,  4.08it/s]"
     ]
    },
    {
     "name": "stdout",
     "output_type": "stream",
     "text": [
      "EPOCH: 4 | G_LOSS: 0.603 | D_LOSS: -2.832\n"
     ]
    },
    {
     "name": "stderr",
     "output_type": "stream",
     "text": [
      " 47%|████▋     | 1501/3165 [05:39<06:45,  4.11it/s]"
     ]
    },
    {
     "name": "stdout",
     "output_type": "stream",
     "text": [
      "EPOCH: 4 | G_LOSS: 0.591 | D_LOSS: -2.814\n"
     ]
    },
    {
     "name": "stderr",
     "output_type": "stream",
     "text": [
      " 63%|██████▎   | 2001/3165 [07:33<04:44,  4.09it/s]"
     ]
    },
    {
     "name": "stdout",
     "output_type": "stream",
     "text": [
      "EPOCH: 4 | G_LOSS: 0.601 | D_LOSS: -2.808\n"
     ]
    },
    {
     "name": "stderr",
     "output_type": "stream",
     "text": [
      " 79%|███████▉  | 2501/3165 [09:26<02:42,  4.09it/s]"
     ]
    },
    {
     "name": "stdout",
     "output_type": "stream",
     "text": [
      "EPOCH: 4 | G_LOSS: 0.623 | D_LOSS: -2.811\n"
     ]
    },
    {
     "name": "stderr",
     "output_type": "stream",
     "text": [
      " 95%|█████████▍| 3001/3165 [11:19<00:40,  4.09it/s]"
     ]
    },
    {
     "name": "stdout",
     "output_type": "stream",
     "text": [
      "EPOCH: 4 | G_LOSS: 0.634 | D_LOSS: -2.815\n"
     ]
    },
    {
     "name": "stderr",
     "output_type": "stream",
     "text": [
      "100%|██████████| 3165/3165 [11:56<00:00,  4.42it/s]\n",
      "  0%|          | 1/3165 [00:00<15:56,  3.31it/s]"
     ]
    },
    {
     "name": "stdout",
     "output_type": "stream",
     "text": [
      "EPOCH: 5 | G_LOSS: 1.465 | D_LOSS: -3.091\n"
     ]
    },
    {
     "name": "stderr",
     "output_type": "stream",
     "text": [
      " 16%|█▌        | 501/3165 [01:53<10:52,  4.09it/s]"
     ]
    },
    {
     "name": "stdout",
     "output_type": "stream",
     "text": [
      "EPOCH: 5 | G_LOSS: 0.258 | D_LOSS: -2.795\n"
     ]
    },
    {
     "name": "stderr",
     "output_type": "stream",
     "text": [
      " 32%|███▏      | 1001/3165 [03:46<08:49,  4.08it/s]"
     ]
    },
    {
     "name": "stdout",
     "output_type": "stream",
     "text": [
      "EPOCH: 5 | G_LOSS: 0.301 | D_LOSS: -2.758\n"
     ]
    },
    {
     "name": "stderr",
     "output_type": "stream",
     "text": [
      " 47%|████▋     | 1501/3165 [05:40<06:47,  4.09it/s]"
     ]
    },
    {
     "name": "stdout",
     "output_type": "stream",
     "text": [
      "EPOCH: 5 | G_LOSS: 0.357 | D_LOSS: -2.783\n"
     ]
    },
    {
     "name": "stderr",
     "output_type": "stream",
     "text": [
      " 63%|██████▎   | 2001/3165 [07:33<04:44,  4.09it/s]"
     ]
    },
    {
     "name": "stdout",
     "output_type": "stream",
     "text": [
      "EPOCH: 5 | G_LOSS: 0.356 | D_LOSS: -2.784\n"
     ]
    },
    {
     "name": "stderr",
     "output_type": "stream",
     "text": [
      " 79%|███████▉  | 2501/3165 [09:26<02:41,  4.10it/s]"
     ]
    },
    {
     "name": "stdout",
     "output_type": "stream",
     "text": [
      "EPOCH: 5 | G_LOSS: 0.418 | D_LOSS: -2.801\n"
     ]
    },
    {
     "name": "stderr",
     "output_type": "stream",
     "text": [
      " 95%|█████████▍| 3001/3165 [11:19<00:40,  4.10it/s]"
     ]
    },
    {
     "name": "stdout",
     "output_type": "stream",
     "text": [
      "EPOCH: 5 | G_LOSS: 0.441 | D_LOSS: -2.801\n"
     ]
    },
    {
     "name": "stderr",
     "output_type": "stream",
     "text": [
      "100%|██████████| 3165/3165 [11:56<00:00,  4.42it/s]\n",
      "  0%|          | 1/3165 [00:00<16:06,  3.27it/s]"
     ]
    },
    {
     "name": "stdout",
     "output_type": "stream",
     "text": [
      "EPOCH: 6 | G_LOSS: 1.441 | D_LOSS: -3.054\n"
     ]
    },
    {
     "name": "stderr",
     "output_type": "stream",
     "text": [
      " 16%|█▌        | 501/3165 [01:53<10:50,  4.09it/s]"
     ]
    },
    {
     "name": "stdout",
     "output_type": "stream",
     "text": [
      "EPOCH: 6 | G_LOSS: 0.589 | D_LOSS: -2.735\n"
     ]
    },
    {
     "name": "stderr",
     "output_type": "stream",
     "text": [
      " 32%|███▏      | 1001/3165 [03:46<08:48,  4.10it/s]"
     ]
    },
    {
     "name": "stdout",
     "output_type": "stream",
     "text": [
      "EPOCH: 6 | G_LOSS: 0.514 | D_LOSS: -2.774\n"
     ]
    },
    {
     "name": "stderr",
     "output_type": "stream",
     "text": [
      " 47%|████▋     | 1501/3165 [05:39<06:47,  4.09it/s]"
     ]
    },
    {
     "name": "stdout",
     "output_type": "stream",
     "text": [
      "EPOCH: 6 | G_LOSS: 0.488 | D_LOSS: -2.774\n"
     ]
    },
    {
     "name": "stderr",
     "output_type": "stream",
     "text": [
      " 63%|██████▎   | 2001/3165 [07:33<04:44,  4.09it/s]"
     ]
    },
    {
     "name": "stdout",
     "output_type": "stream",
     "text": [
      "EPOCH: 6 | G_LOSS: 0.565 | D_LOSS: -2.793\n"
     ]
    },
    {
     "name": "stderr",
     "output_type": "stream",
     "text": [
      " 79%|███████▉  | 2501/3165 [09:26<02:42,  4.09it/s]"
     ]
    },
    {
     "name": "stdout",
     "output_type": "stream",
     "text": [
      "EPOCH: 6 | G_LOSS: 0.572 | D_LOSS: -2.787\n"
     ]
    },
    {
     "name": "stderr",
     "output_type": "stream",
     "text": [
      " 95%|█████████▍| 3001/3165 [11:19<00:39,  4.11it/s]"
     ]
    },
    {
     "name": "stdout",
     "output_type": "stream",
     "text": [
      "EPOCH: 6 | G_LOSS: 0.588 | D_LOSS: -2.781\n"
     ]
    },
    {
     "name": "stderr",
     "output_type": "stream",
     "text": [
      "100%|██████████| 3165/3165 [11:56<00:00,  4.42it/s]\n",
      "  0%|          | 1/3165 [00:00<15:34,  3.39it/s]"
     ]
    },
    {
     "name": "stdout",
     "output_type": "stream",
     "text": [
      "EPOCH: 7 | G_LOSS: 1.091 | D_LOSS: -1.228\n"
     ]
    },
    {
     "name": "stderr",
     "output_type": "stream",
     "text": [
      " 16%|█▌        | 501/3165 [01:53<10:49,  4.10it/s]"
     ]
    },
    {
     "name": "stdout",
     "output_type": "stream",
     "text": [
      "EPOCH: 7 | G_LOSS: 0.758 | D_LOSS: -2.832\n"
     ]
    },
    {
     "name": "stderr",
     "output_type": "stream",
     "text": [
      " 32%|███▏      | 1001/3165 [03:46<08:52,  4.06it/s]"
     ]
    },
    {
     "name": "stdout",
     "output_type": "stream",
     "text": [
      "EPOCH: 7 | G_LOSS: 0.696 | D_LOSS: -2.803\n"
     ]
    },
    {
     "name": "stderr",
     "output_type": "stream",
     "text": [
      " 47%|████▋     | 1501/3165 [05:39<06:46,  4.10it/s]"
     ]
    },
    {
     "name": "stdout",
     "output_type": "stream",
     "text": [
      "EPOCH: 7 | G_LOSS: 0.720 | D_LOSS: -2.791\n"
     ]
    },
    {
     "name": "stderr",
     "output_type": "stream",
     "text": [
      " 63%|██████▎   | 2001/3165 [07:32<04:46,  4.07it/s]"
     ]
    },
    {
     "name": "stdout",
     "output_type": "stream",
     "text": [
      "EPOCH: 7 | G_LOSS: 0.752 | D_LOSS: -2.786\n"
     ]
    },
    {
     "name": "stderr",
     "output_type": "stream",
     "text": [
      " 79%|███████▉  | 2501/3165 [09:26<02:42,  4.08it/s]"
     ]
    },
    {
     "name": "stdout",
     "output_type": "stream",
     "text": [
      "EPOCH: 7 | G_LOSS: 0.781 | D_LOSS: -2.782\n"
     ]
    },
    {
     "name": "stderr",
     "output_type": "stream",
     "text": [
      " 95%|█████████▍| 3001/3165 [11:19<00:40,  4.09it/s]"
     ]
    },
    {
     "name": "stdout",
     "output_type": "stream",
     "text": [
      "EPOCH: 7 | G_LOSS: 0.787 | D_LOSS: -2.776\n"
     ]
    },
    {
     "name": "stderr",
     "output_type": "stream",
     "text": [
      "100%|██████████| 3165/3165 [11:56<00:00,  4.42it/s]\n",
      "  0%|          | 1/3165 [00:00<15:35,  3.38it/s]"
     ]
    },
    {
     "name": "stdout",
     "output_type": "stream",
     "text": [
      "EPOCH: 8 | G_LOSS: 1.430 | D_LOSS: -3.016\n"
     ]
    },
    {
     "name": "stderr",
     "output_type": "stream",
     "text": [
      " 16%|█▌        | 501/3165 [01:53<10:51,  4.09it/s]"
     ]
    },
    {
     "name": "stdout",
     "output_type": "stream",
     "text": [
      "EPOCH: 8 | G_LOSS: 0.832 | D_LOSS: -2.773\n"
     ]
    },
    {
     "name": "stderr",
     "output_type": "stream",
     "text": [
      " 32%|███▏      | 1001/3165 [03:47<08:47,  4.10it/s]"
     ]
    },
    {
     "name": "stdout",
     "output_type": "stream",
     "text": [
      "EPOCH: 8 | G_LOSS: 0.832 | D_LOSS: -2.765\n"
     ]
    },
    {
     "name": "stderr",
     "output_type": "stream",
     "text": [
      " 47%|████▋     | 1501/3165 [05:40<06:46,  4.10it/s]"
     ]
    },
    {
     "name": "stdout",
     "output_type": "stream",
     "text": [
      "EPOCH: 8 | G_LOSS: 0.845 | D_LOSS: -2.757\n"
     ]
    },
    {
     "name": "stderr",
     "output_type": "stream",
     "text": [
      " 63%|██████▎   | 2001/3165 [07:33<04:44,  4.09it/s]"
     ]
    },
    {
     "name": "stdout",
     "output_type": "stream",
     "text": [
      "EPOCH: 8 | G_LOSS: 0.833 | D_LOSS: -2.747\n"
     ]
    },
    {
     "name": "stderr",
     "output_type": "stream",
     "text": [
      " 79%|███████▉  | 2501/3165 [09:26<02:42,  4.09it/s]"
     ]
    },
    {
     "name": "stdout",
     "output_type": "stream",
     "text": [
      "EPOCH: 8 | G_LOSS: 0.834 | D_LOSS: -2.745\n"
     ]
    },
    {
     "name": "stderr",
     "output_type": "stream",
     "text": [
      " 95%|█████████▍| 3001/3165 [11:20<00:40,  4.09it/s]"
     ]
    },
    {
     "name": "stdout",
     "output_type": "stream",
     "text": [
      "EPOCH: 8 | G_LOSS: 0.827 | D_LOSS: -2.742\n"
     ]
    },
    {
     "name": "stderr",
     "output_type": "stream",
     "text": [
      "100%|██████████| 3165/3165 [11:57<00:00,  4.41it/s]\n",
      "  0%|          | 1/3165 [00:00<15:46,  3.34it/s]"
     ]
    },
    {
     "name": "stdout",
     "output_type": "stream",
     "text": [
      "EPOCH: 9 | G_LOSS: -1.103 | D_LOSS: -2.614\n"
     ]
    },
    {
     "name": "stderr",
     "output_type": "stream",
     "text": [
      " 16%|█▌        | 501/3165 [01:53<10:50,  4.09it/s]"
     ]
    },
    {
     "name": "stdout",
     "output_type": "stream",
     "text": [
      "EPOCH: 9 | G_LOSS: 0.661 | D_LOSS: -2.620\n"
     ]
    },
    {
     "name": "stderr",
     "output_type": "stream",
     "text": [
      " 32%|███▏      | 1001/3165 [03:46<08:47,  4.11it/s]"
     ]
    },
    {
     "name": "stdout",
     "output_type": "stream",
     "text": [
      "EPOCH: 9 | G_LOSS: 0.596 | D_LOSS: -2.612\n"
     ]
    },
    {
     "name": "stderr",
     "output_type": "stream",
     "text": [
      " 47%|████▋     | 1501/3165 [05:39<06:45,  4.10it/s]"
     ]
    },
    {
     "name": "stdout",
     "output_type": "stream",
     "text": [
      "EPOCH: 9 | G_LOSS: 0.610 | D_LOSS: -2.600\n"
     ]
    },
    {
     "name": "stderr",
     "output_type": "stream",
     "text": [
      " 63%|██████▎   | 2001/3165 [07:32<04:43,  4.10it/s]"
     ]
    },
    {
     "name": "stdout",
     "output_type": "stream",
     "text": [
      "EPOCH: 9 | G_LOSS: 0.620 | D_LOSS: -2.595\n"
     ]
    },
    {
     "name": "stderr",
     "output_type": "stream",
     "text": [
      " 79%|███████▉  | 2501/3165 [09:25<02:42,  4.10it/s]"
     ]
    },
    {
     "name": "stdout",
     "output_type": "stream",
     "text": [
      "EPOCH: 9 | G_LOSS: 0.651 | D_LOSS: -2.584\n"
     ]
    },
    {
     "name": "stderr",
     "output_type": "stream",
     "text": [
      " 95%|█████████▍| 3001/3165 [11:18<00:39,  4.10it/s]"
     ]
    },
    {
     "name": "stdout",
     "output_type": "stream",
     "text": [
      "EPOCH: 9 | G_LOSS: 0.679 | D_LOSS: -2.581\n"
     ]
    },
    {
     "name": "stderr",
     "output_type": "stream",
     "text": [
      "100%|██████████| 3165/3165 [11:55<00:00,  4.42it/s]\n",
      "  0%|          | 1/3165 [00:00<16:22,  3.22it/s]"
     ]
    },
    {
     "name": "stdout",
     "output_type": "stream",
     "text": [
      "EPOCH: 10 | G_LOSS: 1.415 | D_LOSS: -2.027\n"
     ]
    },
    {
     "name": "stderr",
     "output_type": "stream",
     "text": [
      " 16%|█▌        | 501/3165 [01:53<10:50,  4.10it/s]"
     ]
    },
    {
     "name": "stdout",
     "output_type": "stream",
     "text": [
      "EPOCH: 10 | G_LOSS: 0.719 | D_LOSS: -2.518\n"
     ]
    },
    {
     "name": "stderr",
     "output_type": "stream",
     "text": [
      " 32%|███▏      | 1001/3165 [03:46<08:48,  4.10it/s]"
     ]
    },
    {
     "name": "stdout",
     "output_type": "stream",
     "text": [
      "EPOCH: 10 | G_LOSS: 0.731 | D_LOSS: -2.533\n"
     ]
    },
    {
     "name": "stderr",
     "output_type": "stream",
     "text": [
      " 47%|████▋     | 1501/3165 [05:39<06:46,  4.09it/s]"
     ]
    },
    {
     "name": "stdout",
     "output_type": "stream",
     "text": [
      "EPOCH: 10 | G_LOSS: 0.778 | D_LOSS: -2.492\n"
     ]
    },
    {
     "name": "stderr",
     "output_type": "stream",
     "text": [
      " 63%|██████▎   | 2001/3165 [07:32<04:43,  4.10it/s]"
     ]
    },
    {
     "name": "stdout",
     "output_type": "stream",
     "text": [
      "EPOCH: 10 | G_LOSS: 0.787 | D_LOSS: -2.476\n"
     ]
    },
    {
     "name": "stderr",
     "output_type": "stream",
     "text": [
      " 79%|███████▉  | 2501/3165 [09:25<02:42,  4.09it/s]"
     ]
    },
    {
     "name": "stdout",
     "output_type": "stream",
     "text": [
      "EPOCH: 10 | G_LOSS: 0.788 | D_LOSS: -2.467\n"
     ]
    },
    {
     "name": "stderr",
     "output_type": "stream",
     "text": [
      " 95%|█████████▍| 3001/3165 [11:18<00:40,  4.10it/s]"
     ]
    },
    {
     "name": "stdout",
     "output_type": "stream",
     "text": [
      "EPOCH: 10 | G_LOSS: 0.786 | D_LOSS: -2.453\n"
     ]
    },
    {
     "name": "stderr",
     "output_type": "stream",
     "text": [
      "100%|██████████| 3165/3165 [11:55<00:00,  4.42it/s]\n",
      "  0%|          | 1/3165 [00:00<15:44,  3.35it/s]"
     ]
    },
    {
     "name": "stdout",
     "output_type": "stream",
     "text": [
      "EPOCH: 11 | G_LOSS: 1.351 | D_LOSS: -2.804\n"
     ]
    },
    {
     "name": "stderr",
     "output_type": "stream",
     "text": [
      " 16%|█▌        | 501/3165 [01:53<11:04,  4.01it/s]"
     ]
    },
    {
     "name": "stdout",
     "output_type": "stream",
     "text": [
      "EPOCH: 11 | G_LOSS: 0.791 | D_LOSS: -2.411\n"
     ]
    },
    {
     "name": "stderr",
     "output_type": "stream",
     "text": [
      " 32%|███▏      | 1001/3165 [03:46<08:47,  4.10it/s]"
     ]
    },
    {
     "name": "stdout",
     "output_type": "stream",
     "text": [
      "EPOCH: 11 | G_LOSS: 0.808 | D_LOSS: -2.391\n"
     ]
    },
    {
     "name": "stderr",
     "output_type": "stream",
     "text": [
      " 47%|████▋     | 1501/3165 [05:40<07:44,  3.58it/s]"
     ]
    },
    {
     "name": "stdout",
     "output_type": "stream",
     "text": [
      "EPOCH: 11 | G_LOSS: 0.810 | D_LOSS: -2.366\n"
     ]
    },
    {
     "name": "stderr",
     "output_type": "stream",
     "text": [
      " 63%|██████▎   | 2001/3165 [07:33<04:44,  4.09it/s]"
     ]
    },
    {
     "name": "stdout",
     "output_type": "stream",
     "text": [
      "EPOCH: 11 | G_LOSS: 0.811 | D_LOSS: -2.359\n"
     ]
    },
    {
     "name": "stderr",
     "output_type": "stream",
     "text": [
      " 79%|███████▉  | 2501/3165 [09:26<02:41,  4.10it/s]"
     ]
    },
    {
     "name": "stdout",
     "output_type": "stream",
     "text": [
      "EPOCH: 11 | G_LOSS: 0.804 | D_LOSS: -2.357\n"
     ]
    },
    {
     "name": "stderr",
     "output_type": "stream",
     "text": [
      " 95%|█████████▍| 3001/3165 [11:19<00:39,  4.11it/s]"
     ]
    },
    {
     "name": "stdout",
     "output_type": "stream",
     "text": [
      "EPOCH: 11 | G_LOSS: 0.784 | D_LOSS: -2.351\n"
     ]
    },
    {
     "name": "stderr",
     "output_type": "stream",
     "text": [
      "100%|██████████| 3165/3165 [11:56<00:00,  4.42it/s]\n",
      "  0%|          | 1/3165 [00:00<16:01,  3.29it/s]"
     ]
    },
    {
     "name": "stdout",
     "output_type": "stream",
     "text": [
      "EPOCH: 12 | G_LOSS: 1.399 | D_LOSS: -2.800\n"
     ]
    },
    {
     "name": "stderr",
     "output_type": "stream",
     "text": [
      " 16%|█▌        | 501/3165 [01:53<10:50,  4.09it/s]"
     ]
    },
    {
     "name": "stdout",
     "output_type": "stream",
     "text": [
      "EPOCH: 12 | G_LOSS: 0.778 | D_LOSS: -2.364\n"
     ]
    },
    {
     "name": "stderr",
     "output_type": "stream",
     "text": [
      " 32%|███▏      | 1001/3165 [03:46<08:47,  4.10it/s]"
     ]
    },
    {
     "name": "stdout",
     "output_type": "stream",
     "text": [
      "EPOCH: 12 | G_LOSS: 0.780 | D_LOSS: -2.342\n"
     ]
    },
    {
     "name": "stderr",
     "output_type": "stream",
     "text": [
      " 47%|████▋     | 1501/3165 [05:39<06:45,  4.10it/s]"
     ]
    },
    {
     "name": "stdout",
     "output_type": "stream",
     "text": [
      "EPOCH: 12 | G_LOSS: 0.801 | D_LOSS: -2.306\n"
     ]
    },
    {
     "name": "stderr",
     "output_type": "stream",
     "text": [
      " 63%|██████▎   | 2001/3165 [07:32<04:43,  4.10it/s]"
     ]
    },
    {
     "name": "stdout",
     "output_type": "stream",
     "text": [
      "EPOCH: 12 | G_LOSS: 0.822 | D_LOSS: -2.280\n"
     ]
    },
    {
     "name": "stderr",
     "output_type": "stream",
     "text": [
      " 70%|███████   | 2225/3165 [08:23<03:32,  4.42it/s]"
     ]
    }
   ],
   "source": [
    "for epoch in range(num_epochs):\n",
    "    critic_losses = []\n",
    "    g_losses = []\n",
    "    for batch_idx, (images, _) in enumerate(tqdm(dataloader)):\n",
    "        images = images.to(device)\n",
    "        \n",
    "        # TRAINING DISCRIMINATOR\n",
    "        for i in range(critic_iters):\n",
    "            \n",
    "            critic.train()\n",
    "            critic_optim.zero_grad()\n",
    "            critic_real_out = critic(images)\n",
    "\n",
    "            gen.eval()\n",
    "            noise = torch.randn(batch_size, z_dim, 1, 1).to(device)\n",
    "            critic_fake_out = critic(gen(noise))\n",
    "\n",
    "            # Total loss\n",
    "            critic_loss = -(torch.mean(critic_real_out) - torch.mean(critic_fake_out))\n",
    "\n",
    "            # Backprop and Update params\n",
    "            critic_loss.backward(retain_graph=True)\n",
    "            critic_optim.step()\n",
    "            \n",
    "            # Clamming parameters \n",
    "            for p in critic.parameters():\n",
    "                p.data.clamp_(-clipping_rate, clipping_rate)\n",
    "        \n",
    "        # Training Generator\n",
    "        gen.train()\n",
    "        gen_optim.zero_grad()\n",
    "        fake_images = gen(noise)\n",
    "        gen_loss = -torch.mean(critic(fake_images))\n",
    "        \n",
    "        # Backprop and Update params\n",
    "        gen_loss.backward()\n",
    "        gen_optim.step()\n",
    "        \n",
    "        critic_losses.append(critic_loss.item())\n",
    "        g_losses.append(gen_loss.item())\n",
    "        \n",
    "        if batch_idx % 500 == 0:\n",
    "            gen.eval()\n",
    "            generated_images = gen(fixed_noise)\n",
    "            save_image_grid(epoch, batch_idx, generated_images[:64], 8)\n",
    "        \n",
    "            print(f'EPOCH: {epoch+1} | G_LOSS: {np.mean(g_losses):.3f} | D_LOSS: {np.mean(critic_losses):.3f}')\n",
    "    \n",
    "   "
   ]
  },
  {
   "cell_type": "code",
   "execution_count": 1,
   "id": "f6288f2f-74f6-4f89-9787-6f2a5504c431",
   "metadata": {},
   "outputs": [
    {
     "ename": "NameError",
     "evalue": "name 'torch' is not defined",
     "output_type": "error",
     "traceback": [
      "\u001b[0;31m---------------------------------------------------------------------------\u001b[0m",
      "\u001b[0;31mNameError\u001b[0m                                 Traceback (most recent call last)",
      "\u001b[0;32m/tmp/ipykernel_13773/163322697.py\u001b[0m in \u001b[0;36m<module>\u001b[0;34m\u001b[0m\n\u001b[0;32m----> 1\u001b[0;31m \u001b[0;32mdef\u001b[0m \u001b[0mshow_image_grid\u001b[0m\u001b[0;34m(\u001b[0m\u001b[0mimages\u001b[0m\u001b[0;34m:\u001b[0m \u001b[0mtorch\u001b[0m\u001b[0;34m.\u001b[0m\u001b[0mTensor\u001b[0m\u001b[0;34m,\u001b[0m \u001b[0mncol\u001b[0m\u001b[0;34m:\u001b[0m \u001b[0mint\u001b[0m\u001b[0;34m)\u001b[0m\u001b[0;34m:\u001b[0m\u001b[0;34m\u001b[0m\u001b[0;34m\u001b[0m\u001b[0m\n\u001b[0m\u001b[1;32m      2\u001b[0m \u001b[0;34m\u001b[0m\u001b[0m\n\u001b[1;32m      3\u001b[0m     \u001b[0mimage_grid\u001b[0m \u001b[0;34m=\u001b[0m \u001b[0mmake_grid\u001b[0m\u001b[0;34m(\u001b[0m\u001b[0mimages\u001b[0m\u001b[0;34m,\u001b[0m \u001b[0mncol\u001b[0m\u001b[0;34m,\u001b[0m \u001b[0mnormalize\u001b[0m\u001b[0;34m=\u001b[0m\u001b[0;32mTrue\u001b[0m\u001b[0;34m)\u001b[0m     \u001b[0;31m# Images in a grid\u001b[0m\u001b[0;34m\u001b[0m\u001b[0;34m\u001b[0m\u001b[0m\n\u001b[1;32m      4\u001b[0m     \u001b[0mimage_grid\u001b[0m \u001b[0;34m=\u001b[0m \u001b[0mimage_grid\u001b[0m\u001b[0;34m.\u001b[0m\u001b[0mpermute\u001b[0m\u001b[0;34m(\u001b[0m\u001b[0;36m1\u001b[0m\u001b[0;34m,\u001b[0m \u001b[0;36m2\u001b[0m\u001b[0;34m,\u001b[0m \u001b[0;36m0\u001b[0m\u001b[0;34m)\u001b[0m \u001b[0;31m# Move channel last\u001b[0m\u001b[0;34m\u001b[0m\u001b[0;34m\u001b[0m\u001b[0m\n\u001b[1;32m      5\u001b[0m     \u001b[0mimage_grid\u001b[0m \u001b[0;34m=\u001b[0m \u001b[0mimage_grid\u001b[0m\u001b[0;34m.\u001b[0m\u001b[0mcpu\u001b[0m\u001b[0;34m(\u001b[0m\u001b[0;34m)\u001b[0m\u001b[0;34m.\u001b[0m\u001b[0mnumpy\u001b[0m\u001b[0;34m(\u001b[0m\u001b[0;34m)\u001b[0m    \u001b[0;31m# To Numpy\u001b[0m\u001b[0;34m\u001b[0m\u001b[0;34m\u001b[0m\u001b[0m\n",
      "\u001b[0;31mNameError\u001b[0m: name 'torch' is not defined"
     ]
    }
   ],
   "source": [
    "def show_image_grid(images: torch.Tensor, ncol: int):\n",
    "    \n",
    "    image_grid = make_grid(images, ncol, normalize=True)     # Images in a grid\n",
    "    image_grid = image_grid.permute(1, 2, 0) # Move channel last\n",
    "    image_grid = image_grid.cpu().numpy()    # To Numpy\n",
    "    plt.figure(figsize = (8, 4))\n",
    "    plt.imshow(image_grid)\n",
    "    plt.xticks([])\n",
    "    plt.yticks([])"
   ]
  },
  {
   "cell_type": "code",
   "execution_count": 2,
   "id": "e87c290e-45dc-433c-8e9f-be1bce2ed2ae",
   "metadata": {},
   "outputs": [
    {
     "ename": "NameError",
     "evalue": "name 'gen' is not defined",
     "output_type": "error",
     "traceback": [
      "\u001b[0;31m---------------------------------------------------------------------------\u001b[0m",
      "\u001b[0;31mNameError\u001b[0m                                 Traceback (most recent call last)",
      "\u001b[0;32m/tmp/ipykernel_13773/1937176748.py\u001b[0m in \u001b[0;36m<module>\u001b[0;34m\u001b[0m\n\u001b[1;32m      1\u001b[0m \u001b[0;32mfor\u001b[0m \u001b[0mi\u001b[0m \u001b[0;32min\u001b[0m \u001b[0mrange\u001b[0m\u001b[0;34m(\u001b[0m\u001b[0;36m10\u001b[0m\u001b[0;34m)\u001b[0m\u001b[0;34m:\u001b[0m\u001b[0;34m\u001b[0m\u001b[0;34m\u001b[0m\u001b[0m\n\u001b[0;32m----> 2\u001b[0;31m     \u001b[0mgen\u001b[0m\u001b[0;34m.\u001b[0m\u001b[0meval\u001b[0m\u001b[0;34m(\u001b[0m\u001b[0;34m)\u001b[0m\u001b[0;34m\u001b[0m\u001b[0;34m\u001b[0m\u001b[0m\n\u001b[0m\u001b[1;32m      3\u001b[0m     \u001b[0mnoise\u001b[0m \u001b[0;34m=\u001b[0m \u001b[0mtorch\u001b[0m\u001b[0;34m.\u001b[0m\u001b[0mrandn\u001b[0m\u001b[0;34m(\u001b[0m\u001b[0;36m8\u001b[0m\u001b[0;34m,\u001b[0m \u001b[0;36m100\u001b[0m\u001b[0;34m,\u001b[0m \u001b[0;36m1\u001b[0m\u001b[0;34m,\u001b[0m \u001b[0;36m1\u001b[0m\u001b[0;34m)\u001b[0m\u001b[0;34m.\u001b[0m\u001b[0mto\u001b[0m\u001b[0;34m(\u001b[0m\u001b[0mdevice\u001b[0m\u001b[0;34m)\u001b[0m\u001b[0;34m\u001b[0m\u001b[0;34m\u001b[0m\u001b[0m\n\u001b[1;32m      4\u001b[0m     \u001b[0mgen_images\u001b[0m \u001b[0;34m=\u001b[0m \u001b[0mgen\u001b[0m\u001b[0;34m(\u001b[0m\u001b[0mnoise\u001b[0m\u001b[0;34m)\u001b[0m\u001b[0;34m\u001b[0m\u001b[0;34m\u001b[0m\u001b[0m\n\u001b[1;32m      5\u001b[0m     \u001b[0mshow_image_grid\u001b[0m\u001b[0;34m(\u001b[0m\u001b[0mgen_images\u001b[0m\u001b[0;34m,\u001b[0m \u001b[0;36m4\u001b[0m\u001b[0;34m)\u001b[0m\u001b[0;34m\u001b[0m\u001b[0;34m\u001b[0m\u001b[0m\n",
      "\u001b[0;31mNameError\u001b[0m: name 'gen' is not defined"
     ]
    }
   ],
   "source": [
    "for i in range(10):\n",
    "    gen.eval()\n",
    "    noise = torch.randn(8, 100, 1, 1).to(device)\n",
    "    gen_images = gen(noise)\n",
    "    show_image_grid(gen_images, 4)"
   ]
  },
  {
   "cell_type": "code",
   "execution_count": null,
   "id": "8c3bf06c-b266-4e64-bfa0-b719e9eeaf7f",
   "metadata": {},
   "outputs": [],
   "source": []
  },
  {
   "cell_type": "code",
   "execution_count": null,
   "id": "e1ee2cc9-acaf-4c07-9704-173643050665",
   "metadata": {},
   "outputs": [],
   "source": []
  },
  {
   "cell_type": "code",
   "execution_count": null,
   "id": "03e31a5c-45a6-4680-8d69-bb2aec54dc1a",
   "metadata": {},
   "outputs": [],
   "source": []
  },
  {
   "cell_type": "code",
   "execution_count": null,
   "id": "2ef8db88-3ff1-46bb-9461-4b1b77107f85",
   "metadata": {},
   "outputs": [],
   "source": []
  },
  {
   "cell_type": "code",
   "execution_count": null,
   "id": "a9642d49-8f75-4e68-8082-8b0ef15edc8b",
   "metadata": {},
   "outputs": [],
   "source": []
  }
 ],
 "metadata": {
  "kernelspec": {
   "display_name": "Semantic Segmentation Pytorch-GIT",
   "language": "python",
   "name": "smp"
  },
  "language_info": {
   "codemirror_mode": {
    "name": "ipython",
    "version": 3
   },
   "file_extension": ".py",
   "mimetype": "text/x-python",
   "name": "python",
   "nbconvert_exporter": "python",
   "pygments_lexer": "ipython3",
   "version": "3.8.12"
  }
 },
 "nbformat": 4,
 "nbformat_minor": 5
}
